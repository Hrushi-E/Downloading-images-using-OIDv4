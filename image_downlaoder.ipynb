{
  "nbformat": 4,
  "nbformat_minor": 0,
  "metadata": {
    "colab": {
      "provenance": []
    },
    "kernelspec": {
      "name": "python3",
      "display_name": "Python 3"
    },
    "language_info": {
      "name": "python"
    },
    "accelerator": "GPU"
  },
  "cells": [
    {
      "cell_type": "code",
      "metadata": {
        "colab": {
          "base_uri": "https://localhost:8080/"
        },
        "id": "HJVzTCNrmOok",
        "outputId": "f58193f2-6407-43ef-9227-0ff35cd0b0b8"
      },
      "source": [
        "# Clone the OIDV$ Tool kit for image download\n",
        "!git clone https://github.com/theAIGuysCode/OIDv4_ToolKit.git\n"
      ],
      "execution_count": null,
      "outputs": [
        {
          "output_type": "stream",
          "text": [
            "fatal: destination path 'OIDv4_ToolKit' already exists and is not an empty directory.\n"
          ],
          "name": "stdout"
        }
      ]
    },
    {
      "cell_type": "code",
      "metadata": {
        "id": "ueON4Rsbm_7e"
      },
      "source": [
        "#moving to the folder to run requirement.txt\n",
        "!cd /content/OIDv4_ToolKit/"
      ],
      "execution_count": null,
      "outputs": []
    },
    {
      "cell_type": "code",
      "metadata": {
        "colab": {
          "base_uri": "https://localhost:8080/"
        },
        "id": "8ZkY2GlMnfNi",
        "outputId": "81ef50d3-9d85-43a9-d9eb-4d0b1ac207b4"
      },
      "source": [
        "!pip install -r /content/OIDv4_ToolKit/requirements.txt\n"
      ],
      "execution_count": null,
      "outputs": [
        {
          "output_type": "stream",
          "text": [
            "Requirement already satisfied: pandas in /usr/local/lib/python3.7/dist-packages (from -r /content/OIDv4_ToolKit/requirements.txt (line 1)) (1.1.5)\n",
            "Requirement already satisfied: numpy in /usr/local/lib/python3.7/dist-packages (from -r /content/OIDv4_ToolKit/requirements.txt (line 2)) (1.19.5)\n",
            "Collecting awscli\n",
            "\u001b[?25l  Downloading https://files.pythonhosted.org/packages/0f/72/172b78d81bff76a8bd135453854d8fe5f250706b4bc596e0b919ec6e29d9/awscli-1.19.78-py2.py3-none-any.whl (3.6MB)\n",
            "\u001b[K     |████████████████████████████████| 3.6MB 29.4MB/s \n",
            "\u001b[?25hRequirement already satisfied: urllib3 in /usr/local/lib/python3.7/dist-packages (from -r /content/OIDv4_ToolKit/requirements.txt (line 4)) (1.24.3)\n",
            "Requirement already satisfied: tqdm in /usr/local/lib/python3.7/dist-packages (from -r /content/OIDv4_ToolKit/requirements.txt (line 5)) (4.41.1)\n",
            "Requirement already satisfied: opencv-python in /usr/local/lib/python3.7/dist-packages (from -r /content/OIDv4_ToolKit/requirements.txt (line 6)) (4.1.2.30)\n",
            "Requirement already satisfied: pytz>=2017.2 in /usr/local/lib/python3.7/dist-packages (from pandas->-r /content/OIDv4_ToolKit/requirements.txt (line 1)) (2018.9)\n",
            "Requirement already satisfied: python-dateutil>=2.7.3 in /usr/local/lib/python3.7/dist-packages (from pandas->-r /content/OIDv4_ToolKit/requirements.txt (line 1)) (2.8.1)\n",
            "Collecting docutils<0.16,>=0.10\n",
            "\u001b[?25l  Downloading https://files.pythonhosted.org/packages/22/cd/a6aa959dca619918ccb55023b4cb151949c64d4d5d55b3f4ffd7eee0c6e8/docutils-0.15.2-py3-none-any.whl (547kB)\n",
            "\u001b[K     |████████████████████████████████| 552kB 45.6MB/s \n",
            "\u001b[?25hRequirement already satisfied: PyYAML<5.5,>=3.10 in /usr/local/lib/python3.7/dist-packages (from awscli->-r /content/OIDv4_ToolKit/requirements.txt (line 3)) (3.13)\n",
            "Requirement already satisfied: rsa<4.8,>=3.1.2; python_version > \"2.7\" in /usr/local/lib/python3.7/dist-packages (from awscli->-r /content/OIDv4_ToolKit/requirements.txt (line 3)) (4.7.2)\n",
            "Collecting s3transfer<0.5.0,>=0.4.0\n",
            "\u001b[?25l  Downloading https://files.pythonhosted.org/packages/63/d0/693477c688348654ddc21dcdce0817653a294aa43f41771084c25e7ff9c7/s3transfer-0.4.2-py2.py3-none-any.whl (79kB)\n",
            "\u001b[K     |████████████████████████████████| 81kB 11.1MB/s \n",
            "\u001b[?25hCollecting colorama<0.4.4,>=0.2.5\n",
            "  Downloading https://files.pythonhosted.org/packages/c9/dc/45cdef1b4d119eb96316b3117e6d5708a08029992b2fee2c143c7a0a5cc5/colorama-0.4.3-py2.py3-none-any.whl\n",
            "Collecting botocore==1.20.78\n",
            "\u001b[?25l  Downloading https://files.pythonhosted.org/packages/b4/9e/b5c2ba127c653d22b5b9a48b173fb3e12f3bafc4f6c52004fa737157e63b/botocore-1.20.78-py2.py3-none-any.whl (7.5MB)\n",
            "\u001b[K     |████████████████████████████████| 7.6MB 51.6MB/s \n",
            "\u001b[?25hRequirement already satisfied: six>=1.5 in /usr/local/lib/python3.7/dist-packages (from python-dateutil>=2.7.3->pandas->-r /content/OIDv4_ToolKit/requirements.txt (line 1)) (1.15.0)\n",
            "Requirement already satisfied: pyasn1>=0.1.3 in /usr/local/lib/python3.7/dist-packages (from rsa<4.8,>=3.1.2; python_version > \"2.7\"->awscli->-r /content/OIDv4_ToolKit/requirements.txt (line 3)) (0.4.8)\n",
            "Collecting jmespath<1.0.0,>=0.7.1\n",
            "  Downloading https://files.pythonhosted.org/packages/07/cb/5f001272b6faeb23c1c9e0acc04d48eaaf5c862c17709d20e3469c6e0139/jmespath-0.10.0-py2.py3-none-any.whl\n",
            "\u001b[31mERROR: datascience 0.10.6 has requirement folium==0.2.1, but you'll have folium 0.8.3 which is incompatible.\u001b[0m\n",
            "\u001b[31mERROR: botocore 1.20.78 has requirement urllib3<1.27,>=1.25.4, but you'll have urllib3 1.24.3 which is incompatible.\u001b[0m\n",
            "Installing collected packages: docutils, jmespath, botocore, s3transfer, colorama, awscli\n",
            "  Found existing installation: docutils 0.17.1\n",
            "    Uninstalling docutils-0.17.1:\n",
            "      Successfully uninstalled docutils-0.17.1\n",
            "Successfully installed awscli-1.19.78 botocore-1.20.78 colorama-0.4.3 docutils-0.15.2 jmespath-0.10.0 s3transfer-0.4.2\n"
          ],
          "name": "stdout"
        }
      ]
    },
    {
      "cell_type": "code",
      "metadata": {
        "colab": {
          "base_uri": "https://localhost:8080/"
        },
        "id": "NM7Y3i6ooCDV",
        "outputId": "e1d086be-8c07-49cb-af87-b3305538e3b6"
      },
      "source": [
        "# downloading 5 classes images (person, Helmet, Human_head, Vehicle_registration, Motorcycle) each of 800 images.\n",
        "!python /content/OIDv4_ToolKit/main.py downloader --classes Person Helmet Human_head Vehicle_registration_plate Motorcycle --type_csv train --limit 800"
      ],
      "execution_count": null,
      "outputs": [
        {
          "output_type": "stream",
          "text": [
            "\u001b[92m\n",
            "\t\t   ___   _____  ______            _    _    \n",
            "\t\t .'   `.|_   _||_   _ `.         | |  | |   \n",
            "\t\t/  .-.  \\ | |    | | `. \\ _   __ | |__| |_  \n",
            "\t\t| |   | | | |    | |  | |[ \\ [  ]|____   _| \n",
            "\t\t\\  `-'  /_| |_  _| |_.' / \\ \\/ /     _| |_  \n",
            "\t\t `.___.'|_____||______.'   \\__/     |_____|\n",
            "\t\u001b[0m\n",
            "\u001b[92m\n",
            "             _____                    _                 _             \n",
            "            (____ \\                  | |               | |            \n",
            "             _   \\ \\ ___  _ _ _ ____ | | ___   ____  _ | | ____  ____ \n",
            "            | |   | / _ \\| | | |  _ \\| |/ _ \\ / _  |/ || |/ _  )/ ___)\n",
            "            | |__/ / |_| | | | | | | | | |_| ( ( | ( (_| ( (/ /| |    \n",
            "            |_____/ \\___/ \\____|_| |_|_|\\___/ \\_||_|\\____|\\____)_|    \n",
            "                                                          \n",
            "        \u001b[0m\n",
            "    [INFO] | Downloading Person.\u001b[0m\n",
            "\u001b[91m   [ERROR] | Missing the class-descriptions-boxable.csv file.\u001b[0m\n",
            "\u001b[94m[DOWNLOAD] | Do you want to download the missing file? [Y/n] \u001b[0mY\n",
            "...145%, 0 MB, 20905 KB/s, 0 seconds passed\n",
            "\u001b[94m[DOWNLOAD] | File class-descriptions-boxable.csv downloaded into OID/csv_folder/class-descriptions-boxable.csv.\u001b[0m\n",
            "\u001b[91m   [ERROR] | Missing the train-annotations-bbox.csv file.\u001b[0m\n",
            "\u001b[94m[DOWNLOAD] | Do you want to download the missing file? [Y/n] \u001b[0mY\n",
            "...100%, 1138 MB, 36443 KB/s, 31 seconds passed\n",
            "\u001b[94m[DOWNLOAD] | File train-annotations-bbox.csv downloaded into OID/csv_folder/train-annotations-bbox.csv.\u001b[0m\n",
            "\n",
            "\u001b[95mPerson\u001b[0m\n",
            "    [INFO] | Downloading train images.\u001b[0m\n",
            "    [INFO] | [INFO] Found 248384 online images for train.\u001b[0m\n",
            "    [INFO] | Limiting to 800 images.\u001b[0m\n",
            "    [INFO] | Download of 800 images in train.\u001b[0m\n",
            "100% 800/800 [08:22<00:00,  1.59it/s]\n",
            "    [INFO] | Done!\u001b[0m\n",
            "    [INFO] | Creating labels for Person of train.\u001b[0m\n",
            "    [INFO] | Labels creation completed.\u001b[0m\n",
            "    [INFO] | Downloading Helmet.\u001b[0m\n",
            "\n",
            "\u001b[95mHelmet\u001b[0m\n",
            "    [INFO] | Downloading train images.\u001b[0m\n",
            "    [INFO] | [INFO] Found 7608 online images for train.\u001b[0m\n",
            "    [INFO] | Limiting to 800 images.\u001b[0m\n",
            "    [INFO] | Download of 800 images in train.\u001b[0m\n",
            "100% 800/800 [07:32<00:00,  1.77it/s]\n",
            "    [INFO] | Done!\u001b[0m\n",
            "    [INFO] | Creating labels for Helmet of train.\u001b[0m\n",
            "    [INFO] | Labels creation completed.\u001b[0m\n",
            "    [INFO] | Downloading Human head.\u001b[0m\n",
            "\n",
            "\u001b[95mHuman head\u001b[0m\n",
            "    [INFO] | Downloading train images.\u001b[0m\n",
            "    [INFO] | [INFO] Found 49308 online images for train.\u001b[0m\n",
            "    [INFO] | Limiting to 800 images.\u001b[0m\n",
            "    [INFO] | Download of 800 images in train.\u001b[0m\n",
            "100% 800/800 [07:35<00:00,  1.76it/s]\n",
            "    [INFO] | Done!\u001b[0m\n",
            "    [INFO] | Creating labels for Human head of train.\u001b[0m\n",
            "    [INFO] | Labels creation completed.\u001b[0m\n",
            "    [INFO] | Downloading Vehicle registration plate.\u001b[0m\n",
            "\n",
            "\u001b[95mVehicle registration plate\u001b[0m\n",
            "    [INFO] | Downloading train images.\u001b[0m\n",
            "    [INFO] | [INFO] Found 5368 online images for train.\u001b[0m\n",
            "    [INFO] | Limiting to 800 images.\u001b[0m\n",
            "    [INFO] | Download of 800 images in train.\u001b[0m\n",
            "100% 800/800 [07:43<00:00,  1.72it/s]\n",
            "    [INFO] | Done!\u001b[0m\n",
            "    [INFO] | Creating labels for Vehicle registration plate of train.\u001b[0m\n",
            "    [INFO] | Labels creation completed.\u001b[0m\n",
            "    [INFO] | Downloading Motorcycle.\u001b[0m\n",
            "\n",
            "\u001b[95mMotorcycle\u001b[0m\n",
            "    [INFO] | Downloading train images.\u001b[0m\n",
            "    [INFO] | [INFO] Found 6944 online images for train.\u001b[0m\n",
            "    [INFO] | Limiting to 800 images.\u001b[0m\n",
            "    [INFO] | Download of 800 images in train.\u001b[0m\n",
            "100% 800/800 [07:31<00:00,  1.77it/s]\n",
            "    [INFO] | Done!\u001b[0m\n",
            "    [INFO] | Creating labels for Motorcycle of train.\u001b[0m\n",
            "    [INFO] | Labels creation completed.\u001b[0m\n"
          ],
          "name": "stdout"
        }
      ]
    },
    {
      "cell_type": "markdown",
      "source": [
        "### Moving files to to outer by conveting to zip loctaion for each transfer"
      ],
      "metadata": {
        "id": "FyC0N4fWQVK2"
      }
    },
    {
      "cell_type": "code",
      "metadata": {
        "id": "Pt10DcP01XOE"
      },
      "source": [
        "!zip -r /content/Veh.zip /content/OIDv4_ToolKit/OID/Dataset/train/VehicleRegNumber"
      ],
      "execution_count": null,
      "outputs": []
    },
    {
      "cell_type": "code",
      "metadata": {
        "id": "ZlINEN89NHey"
      },
      "source": [
        "!zip -r /content/Human_head.zip /content/OID/Dataset/train/Human\\ head/"
      ],
      "execution_count": null,
      "outputs": []
    },
    {
      "cell_type": "code",
      "metadata": {
        "id": "gAY53QdJNnc7"
      },
      "source": [
        "!zip -r /content/Motorcycle.zip /content/OID/Dataset/train/Motorcycle/"
      ],
      "execution_count": null,
      "outputs": []
    },
    {
      "cell_type": "code",
      "metadata": {
        "id": "8Dh9RwrWO6F6"
      },
      "source": [
        "!zip -r /content/Person.zip /content/OID/Dataset/train/Person/"
      ],
      "execution_count": null,
      "outputs": []
    },
    {
      "cell_type": "code",
      "metadata": {
        "id": "rciZHbi7PI_S"
      },
      "source": [
        "!zip -r /content/Vehicle_reg_plate.zip /content/OID/Dataset/train/Vehicle\\ registration\\ plate/"
      ],
      "execution_count": null,
      "outputs": []
    },
    {
      "cell_type": "markdown",
      "source": [
        "### Mounting Gdrive and loading zip files to gdrive"
      ],
      "metadata": {
        "id": "vBK-hhJBQkIK"
      }
    },
    {
      "cell_type": "code",
      "metadata": {
        "colab": {
          "base_uri": "https://localhost:8080/"
        },
        "id": "ohYeUBggQk52",
        "outputId": "77d74a46-e1e0-41b8-dd84-9dc9bbe3ef4c"
      },
      "source": [
        "%cd ..\n",
        "from google.colab import drive\n",
        "drive.mount('/content/gdrive')"
      ],
      "execution_count": null,
      "outputs": [
        {
          "output_type": "stream",
          "text": [
            "/\n",
            "Mounted at /content/gdrive\n"
          ],
          "name": "stdout"
        }
      ]
    },
    {
      "cell_type": "code",
      "metadata": {
        "colab": {
          "base_uri": "https://localhost:8080/"
        },
        "id": "bjRLE8pER5xL",
        "outputId": "a234d750-965b-4207-c0b3-9d73b30fa603"
      },
      "source": [
        "# this creates a symbolic link so that now the path /content/gdrive/My\\ Drive/ is equal to /mydrive\n",
        "!ln -s /content/gdrive/My\\ Drive/ /mydrive\n",
        "!ls /mydrive"
      ],
      "execution_count": null,
      "outputs": [
        {
          "output_type": "stream",
          "text": [
            " before\t\t\t\t  Final.zip\n",
            " classes.txt\t\t\t  Helmet.zip\n",
            "'Colab Notebooks'\t\t  Human_head.zip\n",
            " convert_annotations2.py\t  Motorcycle.zip\n",
            " convert_annotations3.py\t 'My Drive'\n",
            "'Copy of Helmet.zip'\t\t  noh.zip\n",
            "'Copy of Motorcycle.zip'\t  Person.zip\n",
            "'Copy of Person.zip'\t\t  Vehicle_reg_plate.zip\n",
            "'Copy of Vehicle_reg_plate.zip'\n"
          ],
          "name": "stdout"
        }
      ]
    },
    {
      "cell_type": "markdown",
      "source": [
        "### copying zip files to Gdrive"
      ],
      "metadata": {
        "id": "6YfYd-PwSS3H"
      }
    },
    {
      "cell_type": "code",
      "metadata": {
        "id": "6quNoTqySC8x"
      },
      "source": [
        "# GOOGLE DRIVE DOWNLOAD\n",
        "# note that I can change what the image name is saved as (I am saving it as detection1.jpg)\n",
        "!cp /content/Human_head.zip /mydrive/Human_head"
      ],
      "execution_count": null,
      "outputs": []
    },
    {
      "cell_type": "code",
      "metadata": {
        "id": "dp_s65KoTI4h"
      },
      "source": [
        "!cp /content/mot.zip /content/gdrive/MyDrive/mot.zip"
      ],
      "execution_count": null,
      "outputs": []
    },
    {
      "cell_type": "code",
      "metadata": {
        "id": "CiRmwhURS8PU"
      },
      "source": [
        "!cp /content/gdrive/MyDrive/Human_head.zip /content"
      ],
      "execution_count": null,
      "outputs": []
    },
    {
      "cell_type": "code",
      "metadata": {
        "id": "va__hTBVTWpj"
      },
      "source": [
        "!cp /content/gdrive/MyDrive/Motorcycle.zip /content"
      ],
      "execution_count": null,
      "outputs": []
    },
    {
      "cell_type": "code",
      "metadata": {
        "id": "gIp1ivm7T0Lu"
      },
      "source": [
        "!cp /content/gdrive/MyDrive/Person.zip /content"
      ],
      "execution_count": null,
      "outputs": []
    },
    {
      "cell_type": "code",
      "metadata": {
        "id": "cO2YuLYmze57"
      },
      "source": [
        "!cp /content/gdrive/MyDrive/Vehicle_reg_plate.zip /content"
      ],
      "execution_count": null,
      "outputs": []
    },
    {
      "cell_type": "code",
      "source": [],
      "metadata": {
        "id": "QMbHwcM9SbsW"
      },
      "execution_count": null,
      "outputs": []
    },
    {
      "cell_type": "markdown",
      "source": [
        "### unzipping images in colab"
      ],
      "metadata": {
        "id": "qfLNHGHiScZZ"
      }
    },
    {
      "cell_type": "code",
      "metadata": {
        "id": "NvjotDjaz3h5"
      },
      "source": [
        "!unzip /content/Helmet.zip -d /content"
      ],
      "execution_count": null,
      "outputs": []
    },
    {
      "cell_type": "code",
      "metadata": {
        "id": "BQ6oybvYz3-D"
      },
      "source": [
        "!unzip /content/Human_head.zip -d /content"
      ],
      "execution_count": null,
      "outputs": []
    },
    {
      "cell_type": "code",
      "metadata": {
        "id": "81nuJo0xz4CP"
      },
      "source": [
        "!unzip /content/Motorcycle.zip -d /content"
      ],
      "execution_count": null,
      "outputs": []
    },
    {
      "cell_type": "code",
      "metadata": {
        "id": "dZmUaFNT1BnK"
      },
      "source": [
        "!unzip /content/Person.zip -d /content"
      ],
      "execution_count": null,
      "outputs": []
    },
    {
      "cell_type": "code",
      "metadata": {
        "id": "AdctC4V81BxY"
      },
      "source": [
        "!unzip /content/Vehicle_reg_plate.zip -d /content"
      ],
      "execution_count": null,
      "outputs": []
    },
    {
      "cell_type": "markdown",
      "source": [
        "### loading classes.txt and converting the annotations to the way we needed."
      ],
      "metadata": {
        "id": "CE_wJrWASlP6"
      }
    },
    {
      "cell_type": "code",
      "metadata": {
        "id": "KjDCNcWl139q"
      },
      "source": [
        "!cp /content/content/OID -r /content/OIDv4_ToolKit"
      ],
      "execution_count": null,
      "outputs": []
    },
    {
      "cell_type": "code",
      "metadata": {
        "id": "NQbzvVA_2uK-"
      },
      "source": [
        "!cp /content/gdrive/MyDrive/classes.txt /content/OIDv4_ToolKit"
      ],
      "execution_count": null,
      "outputs": []
    },
    {
      "cell_type": "code",
      "metadata": {
        "id": "5Tg7e9ef7pM5"
      },
      "source": [
        "!cp /content/OIDv4_ToolKit/convert_annotations3.py /content/gdrive/MyDrive"
      ],
      "execution_count": null,
      "outputs": []
    },
    {
      "cell_type": "code",
      "metadata": {
        "id": "0foTwLRqCsXZ"
      },
      "source": [
        "!cp /content/gdrive/MyDrive/convert_annotations.py /content/OIDv4_ToolKit"
      ],
      "execution_count": null,
      "outputs": []
    },
    {
      "cell_type": "code",
      "metadata": {
        "id": "nkhIt6gJKcaz"
      },
      "source": [
        "!cp /content/OIDv4_ToolKit/convert_annotations2.py /content/gdrive/MyDrive"
      ],
      "execution_count": null,
      "outputs": []
    },
    {
      "cell_type": "code",
      "metadata": {
        "colab": {
          "base_uri": "https://localhost:8080/"
        },
        "id": "DktQahKf2TtD",
        "outputId": "a90b56d7-ef42-45f1-8e17-0cb86b00ae2f"
      },
      "source": [
        "%cd /content/OIDv4_ToolKit"
      ],
      "execution_count": null,
      "outputs": [
        {
          "output_type": "stream",
          "text": [
            "/content/OIDv4_ToolKit\n"
          ],
          "name": "stdout"
        }
      ]
    },
    {
      "cell_type": "code",
      "metadata": {
        "colab": {
          "base_uri": "https://localhost:8080/"
        },
        "id": "-aAOyZMf2X8A",
        "outputId": "c76aee13-c15c-4167-a7d8-8ff98908c0ef"
      },
      "source": [
        "!python /content/OIDv4_ToolKit/convert_annotations3.py"
      ],
      "execution_count": null,
      "outputs": [
        {
          "output_type": "stream",
          "text": [
            "Currently in subdirectory: train\n",
            "Converting annotations for class:  VehicleRegNumber\n",
            "100% 800/800 [00:14<00:00, 56.10it/s]\n",
            "Converting annotations for class:  .ipynb_checkpoints\n",
            "Traceback (most recent call last):\n",
            "  File \"/content/OIDv4_ToolKit/convert_annotations3.py\", line 52, in <module>\n",
            "    os.chdir(\"Label\")\n",
            "FileNotFoundError: [Errno 2] No such file or directory: 'Label'\n"
          ],
          "name": "stdout"
        }
      ]
    },
    {
      "cell_type": "code",
      "metadata": {
        "id": "0pdi3lDC7BCD"
      },
      "source": [
        "!cp /content/OIDv4_ToolKit/OID/Dataset/train/VehicleRegNumber -r ../"
      ],
      "execution_count": null,
      "outputs": []
    },
    {
      "cell_type": "code",
      "metadata": {
        "id": "BlWmbRt1HkBq"
      },
      "source": [
        "!cp /content/OIDv4_ToolKit/OID/Dataset/train/Motorcycle -r ../"
      ],
      "execution_count": null,
      "outputs": []
    },
    {
      "cell_type": "code",
      "metadata": {
        "id": "xhdXVijwH4og"
      },
      "source": [
        "!cp /content/OIDv4_ToolKit/OID/Dataset/train/Helmet -r ../"
      ],
      "execution_count": null,
      "outputs": []
    },
    {
      "cell_type": "code",
      "metadata": {
        "id": "Lw6Mfv6vIdwn"
      },
      "source": [
        "!cp /content/OIDv4_ToolKit/OID/Dataset/train/NoHelmet -r ../"
      ],
      "execution_count": null,
      "outputs": []
    },
    {
      "cell_type": "code",
      "metadata": {
        "id": "uKbKDV6KMcwi"
      },
      "source": [
        "!cp /content/OIDv4_ToolKit/OID/Dataset/train/Person -r ../"
      ],
      "execution_count": null,
      "outputs": []
    },
    {
      "cell_type": "code",
      "metadata": {
        "id": "_MmhtuKcMjca"
      },
      "source": [
        "!cp /content/NoHelmet -r /content/OIDv4_ToolKit/OID/Dataset/train"
      ],
      "execution_count": null,
      "outputs": []
    },
    {
      "cell_type": "code",
      "metadata": {
        "id": "woa68Qu8GKQD"
      },
      "source": [
        "import shutil\n",
        "shutil.rmtree('/content/OIDv4_ToolKit/OID/Dataset/train/VehicleRegNumber')"
      ],
      "execution_count": null,
      "outputs": []
    },
    {
      "cell_type": "code",
      "metadata": {
        "id": "v8WEXwnUIJfm"
      },
      "source": [
        "import shutil\n",
        "shutil.rmtree('/content/OIDv4_ToolKit/OID/Dataset/train/Helmet')"
      ],
      "execution_count": null,
      "outputs": []
    },
    {
      "cell_type": "code",
      "metadata": {
        "id": "_XfVGD9IIIq2"
      },
      "source": [
        "import shutil\n",
        "shutil.rmtree('/content/OIDv4_ToolKit/OID/Dataset/train/Motorcycle')"
      ],
      "execution_count": null,
      "outputs": []
    },
    {
      "cell_type": "code",
      "metadata": {
        "id": "oQqV2vXHIS9u"
      },
      "source": [
        "import shutil\n",
        "shutil.rmtree('/content/OIDv4_ToolKit/OID/Dataset/train/Person')"
      ],
      "execution_count": null,
      "outputs": []
    },
    {
      "cell_type": "markdown",
      "source": [
        "### Moving properly annotated images of each class to a folder named obj"
      ],
      "metadata": {
        "id": "FCXhdFt8RcFf"
      }
    },
    {
      "cell_type": "code",
      "metadata": {
        "id": "0wPgvIKsOfLR"
      },
      "source": [
        "!cp \"/content/Helmet/\" -r \"/content/obj\""
      ],
      "execution_count": null,
      "outputs": []
    },
    {
      "cell_type": "code",
      "metadata": {
        "id": "XVXPoo0XPMdy"
      },
      "source": [
        "!cp \"/content/NoHelmet/\" -r \"/content/obj\""
      ],
      "execution_count": null,
      "outputs": []
    },
    {
      "cell_type": "code",
      "metadata": {
        "id": "b0P1R2RNPMoA"
      },
      "source": [
        "!cp \"/content/VehicleRegNumber\" -r \"/content/obj\""
      ],
      "execution_count": null,
      "outputs": []
    },
    {
      "cell_type": "code",
      "metadata": {
        "id": "m6j7uACqPMwK"
      },
      "source": [
        "!cp \"/content/Person\" -r \"/content/obj\""
      ],
      "execution_count": null,
      "outputs": []
    },
    {
      "cell_type": "code",
      "metadata": {
        "id": "05-5kz4HPNUM"
      },
      "source": [
        "!cp \"/content/Motorcycle\" -r \"/content/obj\""
      ],
      "execution_count": null,
      "outputs": []
    },
    {
      "cell_type": "code",
      "metadata": {
        "id": "KOWr4WqpPqpZ"
      },
      "source": [
        "!zip -r /content/NoHelmet.zip /content/OIDv4_ToolKit/OID/Dataset/train/NoHelmet"
      ],
      "execution_count": null,
      "outputs": []
    },
    {
      "cell_type": "code",
      "metadata": {
        "id": "1CA-kxS3QnSg"
      },
      "source": [
        "!cp /content/NoHelmet.zip /content/gdrive/MyDrive"
      ],
      "execution_count": null,
      "outputs": []
    },
    {
      "cell_type": "code",
      "metadata": {
        "id": "6vEVJ0tTRELp"
      },
      "source": [
        "shutil.rmtree('/content/Final/Helmet/Label')"
      ],
      "execution_count": null,
      "outputs": []
    },
    {
      "cell_type": "code",
      "metadata": {
        "id": "pBxccW2oUGUz"
      },
      "source": [],
      "execution_count": null,
      "outputs": []
    },
    {
      "cell_type": "code",
      "metadata": {
        "id": "CJddtu0aUYrI"
      },
      "source": [],
      "execution_count": null,
      "outputs": []
    },
    {
      "cell_type": "code",
      "metadata": {
        "id": "fQDf3UM-UYus"
      },
      "source": [],
      "execution_count": null,
      "outputs": []
    },
    {
      "cell_type": "code",
      "metadata": {
        "colab": {
          "base_uri": "https://localhost:8080/",
          "height": 35
        },
        "id": "7gHKwq7vUYy2",
        "outputId": "651c2911-1c40-441c-dddf-4aa8c4b39ea8"
      },
      "source": [
        "import shutil\n",
        "shutil.move(\"/content/test/sample_data/\", \"/content/p\")"
      ],
      "execution_count": null,
      "outputs": [
        {
          "output_type": "execute_result",
          "data": {
            "application/vnd.google.colaboratory.intrinsic+json": {
              "type": "string"
            },
            "text/plain": [
              "'/content/p/sample_data'"
            ]
          },
          "metadata": {
            "tags": []
          },
          "execution_count": 8
        }
      ]
    },
    {
      "cell_type": "code",
      "metadata": {
        "id": "A2Yvls8PU79X"
      },
      "source": [
        "!cp /content/test/sample_data -r ../"
      ],
      "execution_count": null,
      "outputs": []
    },
    {
      "cell_type": "code",
      "metadata": {
        "id": "EAd_i51iScw5"
      },
      "source": [
        "import shutil\n",
        "shutil.rmtree(\"/content/obj1\")"
      ],
      "execution_count": null,
      "outputs": []
    },
    {
      "cell_type": "code",
      "metadata": {
        "colab": {
          "base_uri": "https://localhost:8080/"
        },
        "id": "r-nBNsqnSqZO",
        "outputId": "3296269d-ae18-46c8-8882-db2de0f6e82b"
      },
      "source": [
        "%cd /content/OIDv4_ToolKit/OID/Dataset/train/VehicleRegNumber"
      ],
      "execution_count": null,
      "outputs": [
        {
          "output_type": "stream",
          "text": [
            "/content/OIDv4_ToolKit/OID/Dataset/train/VehicleRegNumber\n"
          ],
          "name": "stdout"
        }
      ]
    },
    {
      "cell_type": "code",
      "metadata": {
        "colab": {
          "base_uri": "https://localhost:8080/"
        },
        "id": "xLfGRAMvSqq_",
        "outputId": "ab1bc3f8-bf71-4e0d-ea6d-87e23d9af720"
      },
      "source": [
        "import os\n",
        "import shutil\n",
        "from os import listdir\n",
        "from os.path import isfile, join\n",
        "\n",
        "cwd = os.getcwd()\n",
        "onlyfiles = [os.path.join(cwd, f) for f in os.listdir(cwd) if\n",
        "os.path.isfile(os.path.join(cwd, f))]\n",
        "for i in onlyfiles:\n",
        "  shutil.copy(i,\"/content/obj\")\n",
        "\n",
        "print(len(onlyfiles))"
      ],
      "execution_count": null,
      "outputs": [
        {
          "output_type": "stream",
          "text": [
            "1600\n"
          ],
          "name": "stdout"
        }
      ]
    },
    {
      "cell_type": "code",
      "metadata": {
        "colab": {
          "base_uri": "https://localhost:8080/"
        },
        "id": "Ttd-62AIVMra",
        "outputId": "d85fcba5-e064-4438-cf6a-dce0e931004e"
      },
      "source": [
        "%cd /content/obj"
      ],
      "execution_count": null,
      "outputs": [
        {
          "output_type": "stream",
          "text": [
            "/content/obj\n"
          ],
          "name": "stdout"
        }
      ]
    },
    {
      "cell_type": "markdown",
      "source": [
        "### Fianlly moving all images to obj folder in Gdrive\n"
      ],
      "metadata": {
        "id": "GfUna1RrTLR6"
      }
    },
    {
      "cell_type": "code",
      "metadata": {
        "colab": {
          "base_uri": "https://localhost:8080/"
        },
        "id": "XcQHkqDMSq9U",
        "outputId": "c6156661-191c-493c-fb8a-9ff5eb2a80a4"
      },
      "source": [
        "import os\n",
        "import shutil\n",
        "from os import listdir\n",
        "from os.path import isfile, join\n",
        "\n",
        "cwd = os.getcwd()\n",
        "onlyfiles = [os.path.join(cwd, f) for f in os.listdir(cwd) if\n",
        "os.path.isfile(os.path.join(cwd, f))]\n",
        "for i in onlyfiles:\n",
        "  shutil.copy(i,\"/content/obj1\")\n",
        "\n",
        "print(len(onlyfiles))"
      ],
      "execution_count": null,
      "outputs": [
        {
          "output_type": "stream",
          "text": [
            "7648\n"
          ],
          "name": "stdout"
        }
      ]
    },
    {
      "cell_type": "code",
      "metadata": {
        "id": "EyGh0u2FSrMy"
      },
      "source": [
        "!zip -r /content/obj.zip /content/obj"
      ],
      "execution_count": null,
      "outputs": []
    },
    {
      "cell_type": "code",
      "metadata": {
        "id": "oJtWOwAySrc4"
      },
      "source": [
        "!cp /content/obj.zip /content/gdrive/MyDrive"
      ],
      "execution_count": null,
      "outputs": []
    },
    {
      "cell_type": "code",
      "metadata": {
        "id": "TD0vr9J4Srp9"
      },
      "source": [],
      "execution_count": null,
      "outputs": []
    },
    {
      "cell_type": "code",
      "metadata": {
        "id": "Tm2Z31YzSr2s"
      },
      "source": [],
      "execution_count": null,
      "outputs": []
    }
  ]
}